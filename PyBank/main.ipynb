{
 "cells": [
  {
   "cell_type": "code",
   "execution_count": 22,
   "metadata": {},
   "outputs": [
    {
     "name": "stdout",
     "output_type": "stream",
     "text": [
      "{'Jan-2010': '671099', 'Feb-2010': '671099', 'Mar-2010': '671099', 'Apr-2010': '671099', 'May-2010': '671099', 'Jun-2010': '671099', 'Jul-2010': '671099', 'Aug-2010': '671099', 'Sep-2010': '671099', 'Oct-2010': '671099', 'Nov-2010': '671099', 'Dec-2010': '671099', 'Jan-2011': '671099', 'Feb-2011': '671099', 'Mar-2011': '671099', 'Apr-2011': '671099', 'May-2011': '671099', 'Jun-2011': '671099', 'Jul-2011': '671099', 'Aug-2011': '671099', 'Sep-2011': '671099', 'Oct-2011': '671099', 'Nov-2011': '671099', 'Dec-2011': '671099', 'Jan-2012': '671099', 'Feb-2012': '671099', 'Mar-2012': '671099', 'Apr-2012': '671099', 'May-2012': '671099', 'Jun-2012': '671099', 'Jul-2012': '671099', 'Aug-2012': '671099', 'Sep-2012': '671099', 'Oct-2012': '671099', 'Nov-2012': '671099', 'Dec-2012': '671099', 'Jan-2013': '671099', 'Feb-2013': '671099', 'Mar-2013': '671099', 'Apr-2013': '671099', 'May-2013': '671099', 'Jun-2013': '671099', 'Jul-2013': '671099', 'Aug-2013': '671099', 'Sep-2013': '671099', 'Oct-2013': '671099', 'Nov-2013': '671099', 'Dec-2013': '671099', 'Jan-2014': '671099', 'Feb-2014': '671099', 'Mar-2014': '671099', 'Apr-2014': '671099', 'May-2014': '671099', 'Jun-2014': '671099', 'Jul-2014': '671099', 'Aug-2014': '671099', 'Sep-2014': '671099', 'Oct-2014': '671099', 'Nov-2014': '671099', 'Dec-2014': '671099', 'Jan-2015': '671099', 'Feb-2015': '671099', 'Mar-2015': '671099', 'Apr-2015': '671099', 'May-2015': '671099', 'Jun-2015': '671099', 'Jul-2015': '671099', 'Aug-2015': '671099', 'Sep-2015': '671099', 'Oct-2015': '671099', 'Nov-2015': '671099', 'Dec-2015': '671099', 'Jan-2016': '671099', 'Feb-2016': '671099', 'Mar-2016': '671099', 'Apr-2016': '671099', 'May-2016': '671099', 'Jun-2016': '671099', 'Jul-2016': '671099', 'Aug-2016': '671099', 'Sep-2016': '671099', 'Oct-2016': '671099', 'Nov-2016': '671099', 'Dec-2016': '671099', 'Jan-2017': '671099', 'Feb-2017': '671099'}\n"
     ]
    },
    {
     "ename": "TypeError",
     "evalue": "unhashable type: 'list'",
     "output_type": "error",
     "traceback": [
      "\u001b[1;31m---------------------------------------------------------------------------\u001b[0m",
      "\u001b[1;31mTypeError\u001b[0m                                 Traceback (most recent call last)",
      "\u001b[1;32m~\\AppData\\Local\\Temp/ipykernel_20636/1359072193.py\u001b[0m in \u001b[0;36m<module>\u001b[1;34m\u001b[0m\n\u001b[0;32m     21\u001b[0m \u001b[0mprint\u001b[0m\u001b[1;33m(\u001b[0m\u001b[0mTotalRecords\u001b[0m\u001b[1;33m)\u001b[0m\u001b[1;33m\u001b[0m\u001b[1;33m\u001b[0m\u001b[0m\n\u001b[0;32m     22\u001b[0m \u001b[1;31m#print(PnL)\u001b[0m\u001b[1;33m\u001b[0m\u001b[1;33m\u001b[0m\u001b[1;33m\u001b[0m\u001b[0m\n\u001b[1;32m---> 23\u001b[1;33m \u001b[0mTotalRecords\u001b[0m \u001b[1;33m=\u001b[0m \u001b[1;33m{\u001b[0m\u001b[0mmonths\u001b[0m\u001b[1;33m,\u001b[0m \u001b[0mPnL\u001b[0m\u001b[1;33m}\u001b[0m\u001b[1;33m\u001b[0m\u001b[1;33m\u001b[0m\u001b[0m\n\u001b[0m\u001b[0;32m     24\u001b[0m \u001b[0mprint\u001b[0m\u001b[1;33m(\u001b[0m\u001b[0mTotalRecords\u001b[0m\u001b[1;33m)\u001b[0m\u001b[1;33m\u001b[0m\u001b[1;33m\u001b[0m\u001b[0m\n\u001b[0;32m     25\u001b[0m \u001b[1;31m#header = records[0]\u001b[0m\u001b[1;33m\u001b[0m\u001b[1;33m\u001b[0m\u001b[1;33m\u001b[0m\u001b[0m\n",
      "\u001b[1;31mTypeError\u001b[0m: unhashable type: 'list'"
     ]
    }
   ],
   "source": [
    "from pathlib import Path\n",
    "import csv\n",
    "#set variables for the below code...csv data list, maxprofit, max loss, and text write\n",
    "months = []\n",
    "PnL = []\n",
    "TotalRecords = {}\n",
    "MaxProfit = []\n",
    "MaxLoss = []\n",
    "textlines = []\n",
    "#open and read the csv file\n",
    "filepath = Path('./', 'budget_data.csv')\n",
    "file_obj = open(filepath)\n",
    "reader_obj = csv.DictReader(file_obj)\n",
    "#add csv file data to a new list called \"records\"\n",
    "for col in reader_obj:\n",
    "    months.append(col['Date'])\n",
    "    PnL.append(col['Profit/Losses'])\n",
    "for key in months:\n",
    "    for value in PnL:\n",
    "        TotalRecords[key] = value\n",
    "print(TotalRecords)\n",
    "#print(PnL)\n",
    "#header = records[0]\n",
    "#header.append('Change')\n",
    "#records[0] = header\n",
    "\n",
    "#get the total revenue in the list\n",
    "i = 1\n",
    "a = 0\n",
    "while i < len(records):\n",
    "    total_revenue = total_revenue + int(records[i][2])\n",
    "    #total_revenue = a\n",
    "    #average = round(revenue / count, 2)\n",
    "    #records[i].append(average)\n",
    "    i = i + 1\n",
    "#get max profit\n",
    "i = 1\n",
    "a = 0\n",
    "while i < len(records):\n",
    "    if int(records[i][2]) > a:\n",
    "        MaxProfit = records[i]\n",
    "        a = int(records[i][2])\n",
    "        i = i + 1\n",
    "    else: i + 1\n",
    "#get max loss\n",
    "i = 1\n",
    "a = 0\n",
    "while i < len(records):\n",
    "    if int(records[i][2]) < a:\n",
    "        MaxLoss = records[i]\n",
    "        a = int(records[i][2])\n",
    "        i = i + 1\n",
    "    else: i + 1\n",
    "print(records)\n",
    "average_change = total_revenue / (len(records) - 1)\n",
    "txt1 = \"Financial Analysis\"\n",
    "txt2 = \"----------------------------\"\n",
    "txt3 = \"Total Months: \" + len(records) - 1\n",
    "txt4 = \"Total: ${total_revenue}\"\n",
    "txt5 = \"Average Change: ${average_change}\"\n",
    "txt6 = \"Greatest Increase in Profits: {MaxProfit[0]} (${MaxProfit[0][1]}\"\n",
    "txt7 = \"Greatest decrease in losses: {MaxLoss[0]} (${MaxLoss[0][1]}\"\n",
    "textlines = [txt1, txt2, txt3, txt4, txt5, txt6, txt7]\n",
    "filepath2 = Path('./', 'budget_data.txt')\n",
    "file_obj2 = open(filepath2, 'w')\n",
    "with file_obj2 as textwriter:\n",
    "    textwriter.write('\\n'.join(textlines))\n",
    "    "
   ]
  },
  {
   "cell_type": "code",
   "execution_count": 9,
   "metadata": {},
   "outputs": [
    {
     "name": "stdout",
     "output_type": "stream",
     "text": [
      "c:\\Users\\15613\\FinTechWork\\python-homework\\PyBank\n"
     ]
    }
   ],
   "source": [
    "print(Path.cwd())"
   ]
  },
  {
   "cell_type": "code",
   "execution_count": null,
   "metadata": {},
   "outputs": [],
   "source": []
  }
 ],
 "metadata": {
  "interpreter": {
   "hash": "adff27d073d9c9985dcf86128ad23c862abfe757bdca0ddacca0dde5f60f31b3"
  },
  "kernelspec": {
   "display_name": "Python 3.7.11 ('dev')",
   "language": "python",
   "name": "python3"
  },
  "language_info": {
   "codemirror_mode": {
    "name": "ipython",
    "version": 3
   },
   "file_extension": ".py",
   "mimetype": "text/x-python",
   "name": "python",
   "nbconvert_exporter": "python",
   "pygments_lexer": "ipython3",
   "version": "3.7.11"
  },
  "orig_nbformat": 4
 },
 "nbformat": 4,
 "nbformat_minor": 2
}
