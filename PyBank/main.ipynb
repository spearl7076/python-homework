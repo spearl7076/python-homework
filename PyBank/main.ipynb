{
 "cells": [
  {
   "cell_type": "code",
   "execution_count": 17,
   "metadata": {},
   "outputs": [
    {
     "name": "stdout",
     "output_type": "stream",
     "text": [
      "Financial Analysis\n",
      "----------------------------\n",
      "Total Months: 86\n",
      "Total: $38382578\n",
      "Average  Change: $-2315.12\n",
      "Greatest Increase in Profits:  Feb-2012 ($1926159)\n",
      "Greatest Decrease in Profits:  Sep-2013 ($-2196167)\n"
     ]
    }
   ],
   "source": [
    "from pathlib import Path\n",
    "import csv\n",
    "#set variables for the below code...csv data list, maxprofit, max loss, and text write\n",
    "months = []\n",
    "PnL = []\n",
    "PnL_Change = []\n",
    "TotalRecords = {}\n",
    "textlines = []\n",
    "total_revenue = 0\n",
    "#open and read the csv file\n",
    "filepath = Path('./', 'budget_data.csv')\n",
    "file_obj = open(filepath)\n",
    "reader_obj = csv.DictReader(file_obj)\n",
    "#add columns of csv file data to lists \"months\" and \"PnL\"\n",
    "for col in reader_obj:\n",
    "    months.append(col['Date'])\n",
    "    PnL.append(int(col['Profit/Losses']))\n",
    "#calculate the dtd change in PnL\n",
    "PnL_Change.append(0)\n",
    "i = 1\n",
    "while i < len(PnL):\n",
    "     prev_date = PnL[i - 1]\n",
    "     cur_date = PnL[i]\n",
    "     PnL_Change.append(cur_date - prev_date)\n",
    "     i = i + 1\n",
    "#Get Maximum and Minum dates and values\n",
    "maxvalue = max(PnL_Change)\n",
    "maxdate = months[PnL_Change.index(maxvalue)]\n",
    "minvalue = min(PnL_Change)\n",
    "mindate = months[PnL_Change.index(minvalue)]\n",
    "#get total revenues and total months\n",
    "total_revenue = sum(PnL)\n",
    "total_months = len(months)\n",
    "#average changes\n",
    "PnL_ChangeSum = sum(PnL_Change)\n",
    "PnL_ChangeDatapoints = len(PnL) - 1\n",
    "average_change = round(PnL_ChangeSum / PnL_ChangeDatapoints, 2)\n",
    "#create the text lines\n",
    "txt1 = str(f\"Financial Analysis\")\n",
    "txt2 = str(\"----------------------------\")\n",
    "txt3 = str(f\"Total Months: {total_months}\")\n",
    "txt4 = str(f\"Total: ${total_revenue}\")\n",
    "txt5 = str(f\"Average  Change: ${average_change}\")\n",
    "txt6 = str(f\"Greatest Increase in Profits:  {maxdate} (${maxvalue})\")\n",
    "txt7 = str(f\"Greatest Decrease in Profits:  {mindate} (${minvalue})\")\n",
    "#add text lines to new list \"textlines\"\n",
    "textlines = [txt1, txt2, txt3, txt4, txt5, txt6, txt7]\n",
    "print(txt1)\n",
    "print(txt2)\n",
    "print(txt3)\n",
    "print(txt4)\n",
    "print(txt5)\n",
    "print(txt6)\n",
    "print(txt7)\n",
    "#create open and add text to new text file 'budget_data.txt'\n",
    "filepath2 = Path('./', 'budget_data.txt')\n",
    "file_obj2 = open(filepath2, 'w')\n",
    "with file_obj2 as textwriter:\n",
    "    textwriter.write('\\n'.join(textlines))\n"
   ]
  }
 ],
 "metadata": {
  "interpreter": {
   "hash": "adff27d073d9c9985dcf86128ad23c862abfe757bdca0ddacca0dde5f60f31b3"
  },
  "kernelspec": {
   "display_name": "Python 3.7.11 ('dev')",
   "language": "python",
   "name": "python3"
  },
  "language_info": {
   "codemirror_mode": {
    "name": "ipython",
    "version": 3
   },
   "file_extension": ".py",
   "mimetype": "text/x-python",
   "name": "python",
   "nbconvert_exporter": "python",
   "pygments_lexer": "ipython3",
   "version": "3.7.11"
  },
  "orig_nbformat": 4
 },
 "nbformat": 4,
 "nbformat_minor": 2
}
