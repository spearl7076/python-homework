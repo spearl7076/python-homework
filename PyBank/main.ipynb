{
 "cells": [
  {
   "cell_type": "code",
   "execution_count": 1,
   "metadata": {},
   "outputs": [
    {
     "ename": "SyntaxError",
     "evalue": "invalid syntax (Temp/ipykernel_20636/20370616.py, line 24)",
     "output_type": "error",
     "traceback": [
      "\u001b[1;36m  File \u001b[1;32m\"C:\\Users\\15613\\AppData\\Local\\Temp/ipykernel_20636/20370616.py\"\u001b[1;36m, line \u001b[1;32m24\u001b[0m\n\u001b[1;33m    while i < len(records)\u001b[0m\n\u001b[1;37m                          ^\u001b[0m\n\u001b[1;31mSyntaxError\u001b[0m\u001b[1;31m:\u001b[0m invalid syntax\n"
     ]
    }
   ],
   "source": [
    "from pathlib import Path\n",
    "import csv\n",
    "#set variables for the below code...csv data list, maxprofit, max loss, and text write\n",
    "records = []\n",
    "header = []\n",
    "MaxProfit = []\n",
    "MaxLoss = []\n",
    "textlines = []\n",
    "#open and read the csv file\n",
    "filepath = Path('./PyBank', 'budget_data.csv')\n",
    "file_obj = open(filepath)\n",
    "reader_obj = csv.reader(file_obj)\n",
    "#add csv file data to a new list called \"records\"\n",
    "for rows in reader_obj:\n",
    "    records.append(rows)\n",
    "#header = records[0]\n",
    "#header.append('Change')\n",
    "#records[0] = header\n",
    "\n",
    "#get the total revenue in the list\n",
    "i = 1\n",
    "while i < len(records):\n",
    "    total_revenue = total_revenue +  int(records[i][2])\n",
    "    #average = round(revenue / count, 2)\n",
    "    #records[i].append(average)\n",
    "    i = i + 1\n",
    "#get max profit\n",
    "i = 1\n",
    "a = 0\n",
    "while i < len(records):\n",
    "    if int(records[i][2]) > a:\n",
    "        MaxProfit = records[i]\n",
    "        a = int(records[i][2])\n",
    "        i = i + 1\n",
    "    else: i + 1\n",
    "#get max loss\n",
    "i = 1\n",
    "a = 0\n",
    "while i < len(records):\n",
    "    if int(records[i][2]) < a:\n",
    "        MaxLoss = records[i]\n",
    "        a = int(records[i][2])\n",
    "        i = i + 1\n",
    "    else: i + 1\n",
    "print(records)\n",
    "average_change = total_revenue / (len(records) - 1)\n",
    "txt1 = \"Financial Analysis\"\n",
    "txt2 = \"----------------------------\"\n",
    "txt3 = \"Total Months: \" + len(records) - 1\n",
    "txt4 = \"Total: ${total_revenue}\"\n",
    "txt5 = \"Average Change: ${average_change}\"\n",
    "txt6 = \"Greatest Increase in Profits: {MaxProfit[0]} (${MaxProfit[0][1]}\"\n",
    "txt7 = \"Greatest decrease in losses: {MaxLoss[0]} (${MaxLoss[0][1]}\"\n",
    "textlines = [txt1, txt2, txt3, txt4, txt5, txt6, txt7]\n",
    "filepath2 = Path('./PyBank', 'budget_data.txt')\n",
    "file_obj2 = open(filepath2, 'w')\n",
    "with file_obj2 as textwriter:\n",
    "    textwriter.write('\\n'.join(textlines))\n",
    "    "
   ]
  },
  {
   "cell_type": "code",
   "execution_count": null,
   "metadata": {},
   "outputs": [],
   "source": []
  }
 ],
 "metadata": {
  "interpreter": {
   "hash": "adff27d073d9c9985dcf86128ad23c862abfe757bdca0ddacca0dde5f60f31b3"
  },
  "kernelspec": {
   "display_name": "Python 3.7.11 ('dev')",
   "language": "python",
   "name": "python3"
  },
  "language_info": {
   "codemirror_mode": {
    "name": "ipython",
    "version": 3
   },
   "file_extension": ".py",
   "mimetype": "text/x-python",
   "name": "python",
   "nbconvert_exporter": "python",
   "pygments_lexer": "ipython3",
   "version": "3.7.11"
  },
  "orig_nbformat": 4
 },
 "nbformat": 4,
 "nbformat_minor": 2
}
