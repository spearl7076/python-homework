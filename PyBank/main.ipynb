{
 "cells": [
  {
   "cell_type": "code",
   "execution_count": 30,
   "metadata": {},
   "outputs": [
    {
     "name": "stdout",
     "output_type": "stream",
     "text": [
      "Financial Analysis\n",
      "----------------------------\n",
      "Total Months: 86\n",
      "Total: $38382578\n",
      "Average Change: $446309.05\n",
      "Greatest Increase in Profits: Feb-2012 ($1170593)\n",
      "Greatest decrease in losses: Sep-2013 ($-1196225)\n"
     ]
    }
   ],
   "source": [
    "from pathlib import Path\n",
    "import csv\n",
    "#set variables for the below code...csv data list, maxprofit, max loss, and text write\n",
    "months = []\n",
    "PnL = []\n",
    "TotalRecords = {}\n",
    "textlines = []\n",
    "total_revenue = 0\n",
    "#open and read the csv file\n",
    "filepath = Path('./', 'budget_data.csv')\n",
    "file_obj = open(filepath)\n",
    "reader_obj = csv.DictReader(file_obj)\n",
    "#add columns of csv file data to lists \"months\" and \"PnL\"\n",
    "for col in reader_obj:\n",
    "    months.append(col['Date'])\n",
    "    PnL.append(int(col['Profit/Losses']))\n",
    "#join lists \"months\" and \"PnL\" into new Dictionary \"TotalRecords\"\n",
    "TotalRecords.update(zip(months, PnL))\n",
    "#Get Maximum and Minum dates and values\n",
    "maxdate = max(TotalRecords, key=TotalRecords.get)\n",
    "maxvalue = TotalRecords[maxdate]\n",
    "mindate = min(TotalRecords, key=TotalRecords.get)\n",
    "minvalue = TotalRecords[mindate]\n",
    "#get total revenues\n",
    "total_revenue = sum(PnL)\n",
    "total_months = len(months)\n",
    "#average changes\n",
    "average_change = round(total_revenue / len(PnL), 2)\n",
    "#create the text lines\n",
    "txt1 = str(f\"Financial Analysis\")\n",
    "txt2 = str(\"----------------------------\")\n",
    "txt3 = str(f\"Total Months: {total_months}\")\n",
    "txt4 = str(f\"Total: ${total_revenue}\")\n",
    "txt5 = str(f\"Average Change: ${average_change}\")\n",
    "txt6 = str(f\"Greatest Increase in Profits: {maxdate} (${maxvalue})\")\n",
    "txt7 = str(f\"Greatest decrease in losses: {mindate} (${minvalue})\")\n",
    "#add text lines to new list \"textlines\"\n",
    "textlines = [txt1, txt2, txt3, txt4, txt5, txt6, txt7]\n",
    "print(txt1)\n",
    "print(txt2)\n",
    "print(txt3)\n",
    "print(txt4)\n",
    "print(txt5)\n",
    "print(txt6)\n",
    "print(txt7)\n",
    "#create open and add text to new text file 'budget_data.txt'\n",
    "filepath2 = Path('./', 'budget_data.txt')\n",
    "file_obj2 = open(filepath2, 'w')\n",
    "with file_obj2 as textwriter:\n",
    "    textwriter.write('\\n'.join(textlines))\n"
   ]
  },
  {
   "cell_type": "code",
   "execution_count": 28,
   "metadata": {},
   "outputs": [
    {
     "name": "stdout",
     "output_type": "stream",
     "text": [
      "c:\\Users\\15613\\FinTechWork\\python-homework\\PyBank\n"
     ]
    }
   ],
   "source": [
    "print(Path.cwd())"
   ]
  },
  {
   "cell_type": "code",
   "execution_count": null,
   "metadata": {},
   "outputs": [],
   "source": []
  }
 ],
 "metadata": {
  "interpreter": {
   "hash": "adff27d073d9c9985dcf86128ad23c862abfe757bdca0ddacca0dde5f60f31b3"
  },
  "kernelspec": {
   "display_name": "Python 3.7.11 ('dev')",
   "language": "python",
   "name": "python3"
  },
  "language_info": {
   "codemirror_mode": {
    "name": "ipython",
    "version": 3
   },
   "file_extension": ".py",
   "mimetype": "text/x-python",
   "name": "python",
   "nbconvert_exporter": "python",
   "pygments_lexer": "ipython3",
   "version": "3.7.11"
  },
  "orig_nbformat": 4
 },
 "nbformat": 4,
 "nbformat_minor": 2
}
