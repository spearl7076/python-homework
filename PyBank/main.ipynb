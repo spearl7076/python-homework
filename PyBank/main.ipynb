{
 "cells": [
  {
   "cell_type": "code",
   "execution_count": 19,
   "metadata": {},
   "outputs": [
    {
     "name": "stdout",
     "output_type": "stream",
     "text": [
      "['Jan-2010', 'Feb-2010', 'Mar-2010', 'Apr-2010', 'May-2010', 'Jun-2010', 'Jul-2010', 'Aug-2010', 'Sep-2010', 'Oct-2010', 'Nov-2010', 'Dec-2010', 'Jan-2011', 'Feb-2011', 'Mar-2011', 'Apr-2011', 'May-2011', 'Jun-2011', 'Jul-2011', 'Aug-2011', 'Sep-2011', 'Oct-2011', 'Nov-2011', 'Dec-2011', 'Jan-2012', 'Feb-2012', 'Mar-2012', 'Apr-2012', 'May-2012', 'Jun-2012', 'Jul-2012', 'Aug-2012', 'Sep-2012', 'Oct-2012', 'Nov-2012', 'Dec-2012', 'Jan-2013', 'Feb-2013', 'Mar-2013', 'Apr-2013', 'May-2013', 'Jun-2013', 'Jul-2013', 'Aug-2013', 'Sep-2013', 'Oct-2013', 'Nov-2013', 'Dec-2013', 'Jan-2014', 'Feb-2014', 'Mar-2014', 'Apr-2014', 'May-2014', 'Jun-2014', 'Jul-2014', 'Aug-2014', 'Sep-2014', 'Oct-2014', 'Nov-2014', 'Dec-2014', 'Jan-2015', 'Feb-2015', 'Mar-2015', 'Apr-2015', 'May-2015', 'Jun-2015', 'Jul-2015', 'Aug-2015', 'Sep-2015', 'Oct-2015', 'Nov-2015', 'Dec-2015', 'Jan-2016', 'Feb-2016', 'Mar-2016', 'Apr-2016', 'May-2016', 'Jun-2016', 'Jul-2016', 'Aug-2016', 'Sep-2016', 'Oct-2016', 'Nov-2016', 'Dec-2016', 'Jan-2017', 'Feb-2017']\n",
      "['867884', '984655', '322013', '-69417', '310503', '522857', '1033096', '604885', '-216386', '477532', '893810', '-80353', '779806', '-335203', '697845', '793163', '485070', '584122', '62729', '668179', '899906', '834719', '132003', '309978', '-755566', '1170593', '252788', '1151518', '817256', '570757', '506702', '-1022534', '475062', '779976', '144175', '542494', '359333', '321469', '67780', '471435', '565603', '872480', '789480', '999942', '-1196225', '268997', '-687986', '1150461', '682458', '617856', '824098', '581943', '132864', '448062', '689161', '800701', '1166643', '947333', '578668', '988505', '1139715', '1029471', '687533', '-524626', '158620', '87795', '423389', '840723', '568529', '332067', '989499', '778237', '650000', '-1100387', '-174946', '757143', '445709', '712961', '-1163797', '569899', '768450', '102685', '795914', '60988', '138230', '671099']\n"
     ]
    },
    {
     "ename": "IndexError",
     "evalue": "list index out of range",
     "output_type": "error",
     "traceback": [
      "\u001b[1;31m---------------------------------------------------------------------------\u001b[0m",
      "\u001b[1;31mIndexError\u001b[0m                                Traceback (most recent call last)",
      "\u001b[1;32m~\\AppData\\Local\\Temp/ipykernel_20636/3673843258.py\u001b[0m in \u001b[0;36m<module>\u001b[1;34m\u001b[0m\n\u001b[0;32m     25\u001b[0m \u001b[0ma\u001b[0m \u001b[1;33m=\u001b[0m \u001b[1;36m0\u001b[0m\u001b[1;33m\u001b[0m\u001b[1;33m\u001b[0m\u001b[0m\n\u001b[0;32m     26\u001b[0m \u001b[1;32mwhile\u001b[0m \u001b[0mi\u001b[0m \u001b[1;33m<\u001b[0m \u001b[0mlen\u001b[0m\u001b[1;33m(\u001b[0m\u001b[0mrecords\u001b[0m\u001b[1;33m)\u001b[0m\u001b[1;33m:\u001b[0m\u001b[1;33m\u001b[0m\u001b[1;33m\u001b[0m\u001b[0m\n\u001b[1;32m---> 27\u001b[1;33m     \u001b[0mtotal_revenue\u001b[0m \u001b[1;33m=\u001b[0m \u001b[0mtotal_revenue\u001b[0m \u001b[1;33m+\u001b[0m \u001b[0mint\u001b[0m\u001b[1;33m(\u001b[0m\u001b[0mrecords\u001b[0m\u001b[1;33m[\u001b[0m\u001b[0mi\u001b[0m\u001b[1;33m]\u001b[0m\u001b[1;33m[\u001b[0m\u001b[1;36m2\u001b[0m\u001b[1;33m]\u001b[0m\u001b[1;33m)\u001b[0m\u001b[1;33m\u001b[0m\u001b[1;33m\u001b[0m\u001b[0m\n\u001b[0m\u001b[0;32m     28\u001b[0m     \u001b[1;31m#total_revenue = a\u001b[0m\u001b[1;33m\u001b[0m\u001b[1;33m\u001b[0m\u001b[1;33m\u001b[0m\u001b[0m\n\u001b[0;32m     29\u001b[0m     \u001b[1;31m#average = round(revenue / count, 2)\u001b[0m\u001b[1;33m\u001b[0m\u001b[1;33m\u001b[0m\u001b[1;33m\u001b[0m\u001b[0m\n",
      "\u001b[1;31mIndexError\u001b[0m: list index out of range"
     ]
    }
   ],
   "source": [
    "from pathlib import Path\n",
    "import csv\n",
    "#set variables for the below code...csv data list, maxprofit, max loss, and text write\n",
    "months = []\n",
    "PnL = []\n",
    "MaxProfit = []\n",
    "MaxLoss = []\n",
    "textlines = []\n",
    "#open and read the csv file\n",
    "filepath = Path('./', 'budget_data.csv')\n",
    "file_obj = open(filepath)\n",
    "reader_obj = csv.DictReader(file_obj)\n",
    "#add csv file data to a new list called \"records\"\n",
    "for col in reader_obj:\n",
    "    months.append(col['Date'])\n",
    "    PnL.append(col['Profit/Losses'])\n",
    "print(months)\n",
    "print(PnL)\n",
    "#header = records[0]\n",
    "#header.append('Change')\n",
    "#records[0] = header\n",
    "\n",
    "#get the total revenue in the list\n",
    "i = 1\n",
    "a = 0\n",
    "while i < len(records):\n",
    "    total_revenue = total_revenue + int(records[i][2])\n",
    "    #total_revenue = a\n",
    "    #average = round(revenue / count, 2)\n",
    "    #records[i].append(average)\n",
    "    i = i + 1\n",
    "#get max profit\n",
    "i = 1\n",
    "a = 0\n",
    "while i < len(records):\n",
    "    if int(records[i][2]) > a:\n",
    "        MaxProfit = records[i]\n",
    "        a = int(records[i][2])\n",
    "        i = i + 1\n",
    "    else: i + 1\n",
    "#get max loss\n",
    "i = 1\n",
    "a = 0\n",
    "while i < len(records):\n",
    "    if int(records[i][2]) < a:\n",
    "        MaxLoss = records[i]\n",
    "        a = int(records[i][2])\n",
    "        i = i + 1\n",
    "    else: i + 1\n",
    "print(records)\n",
    "average_change = total_revenue / (len(records) - 1)\n",
    "txt1 = \"Financial Analysis\"\n",
    "txt2 = \"----------------------------\"\n",
    "txt3 = \"Total Months: \" + len(records) - 1\n",
    "txt4 = \"Total: ${total_revenue}\"\n",
    "txt5 = \"Average Change: ${average_change}\"\n",
    "txt6 = \"Greatest Increase in Profits: {MaxProfit[0]} (${MaxProfit[0][1]}\"\n",
    "txt7 = \"Greatest decrease in losses: {MaxLoss[0]} (${MaxLoss[0][1]}\"\n",
    "textlines = [txt1, txt2, txt3, txt4, txt5, txt6, txt7]\n",
    "filepath2 = Path('./', 'budget_data.txt')\n",
    "file_obj2 = open(filepath2, 'w')\n",
    "with file_obj2 as textwriter:\n",
    "    textwriter.write('\\n'.join(textlines))\n",
    "    "
   ]
  },
  {
   "cell_type": "code",
   "execution_count": 9,
   "metadata": {},
   "outputs": [
    {
     "name": "stdout",
     "output_type": "stream",
     "text": [
      "c:\\Users\\15613\\FinTechWork\\python-homework\\PyBank\n"
     ]
    }
   ],
   "source": [
    "print(Path.cwd())"
   ]
  },
  {
   "cell_type": "code",
   "execution_count": null,
   "metadata": {},
   "outputs": [],
   "source": []
  }
 ],
 "metadata": {
  "interpreter": {
   "hash": "adff27d073d9c9985dcf86128ad23c862abfe757bdca0ddacca0dde5f60f31b3"
  },
  "kernelspec": {
   "display_name": "Python 3.7.11 ('dev')",
   "language": "python",
   "name": "python3"
  },
  "language_info": {
   "codemirror_mode": {
    "name": "ipython",
    "version": 3
   },
   "file_extension": ".py",
   "mimetype": "text/x-python",
   "name": "python",
   "nbconvert_exporter": "python",
   "pygments_lexer": "ipython3",
   "version": "3.7.11"
  },
  "orig_nbformat": 4
 },
 "nbformat": 4,
 "nbformat_minor": 2
}
