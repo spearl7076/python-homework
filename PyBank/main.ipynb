{
 "cells": [
  {
   "cell_type": "code",
   "execution_count": 17,
   "metadata": {},
   "outputs": [
    {
     "ename": "NameError",
     "evalue": "name 'records' is not defined",
     "output_type": "error",
     "traceback": [
      "\u001b[1;31m---------------------------------------------------------------------------\u001b[0m",
      "\u001b[1;31mNameError\u001b[0m                                 Traceback (most recent call last)",
      "\u001b[1;32m~\\AppData\\Local\\Temp/ipykernel_6352/3108252087.py\u001b[0m in \u001b[0;36m<module>\u001b[1;34m\u001b[0m\n\u001b[0;32m     28\u001b[0m \u001b[0mtxt1\u001b[0m \u001b[1;33m=\u001b[0m \u001b[1;34m\"Financial Analysis\"\u001b[0m\u001b[1;33m\u001b[0m\u001b[1;33m\u001b[0m\u001b[0m\n\u001b[0;32m     29\u001b[0m \u001b[0mtxt2\u001b[0m \u001b[1;33m=\u001b[0m \u001b[1;34m\"----------------------------\"\u001b[0m\u001b[1;33m\u001b[0m\u001b[1;33m\u001b[0m\u001b[0m\n\u001b[1;32m---> 30\u001b[1;33m \u001b[0mtxt3\u001b[0m \u001b[1;33m=\u001b[0m \u001b[1;34m\"Total Months: \"\u001b[0m \u001b[1;33m+\u001b[0m \u001b[0mlen\u001b[0m\u001b[1;33m(\u001b[0m\u001b[0mrecords\u001b[0m\u001b[1;33m)\u001b[0m \u001b[1;33m-\u001b[0m \u001b[1;36m1\u001b[0m\u001b[1;33m\u001b[0m\u001b[1;33m\u001b[0m\u001b[0m\n\u001b[0m\u001b[0;32m     31\u001b[0m \u001b[0mtxt4\u001b[0m \u001b[1;33m=\u001b[0m \u001b[1;34m\"Total: ${total_revenue}\"\u001b[0m\u001b[1;33m\u001b[0m\u001b[1;33m\u001b[0m\u001b[0m\n\u001b[0;32m     32\u001b[0m \u001b[0mtxt5\u001b[0m \u001b[1;33m=\u001b[0m \u001b[1;34m\"Average Change: ${average_change}\"\u001b[0m\u001b[1;33m\u001b[0m\u001b[1;33m\u001b[0m\u001b[0m\n",
      "\u001b[1;31mNameError\u001b[0m: name 'records' is not defined"
     ]
    }
   ],
   "source": [
    "from pathlib import Path\n",
    "import csv\n",
    "#set variables for the below code...csv data list, maxprofit, max loss, and text write\n",
    "months = []\n",
    "PnL = []\n",
    "TotalRecords = {}\n",
    "textlines = []\n",
    "total_revenue = 0\n",
    "#open and read the csv file\n",
    "filepath = Path('./', 'budget_data.csv')\n",
    "file_obj = open(filepath)\n",
    "reader_obj = csv.DictReader(file_obj)\n",
    "#add columns of csv file data to lists \"months\" and \"PnL\"\n",
    "for col in reader_obj:\n",
    "    months.append(col['Date'])\n",
    "    PnL.append(int(col['Profit/Losses']))\n",
    "#join lists \"months\" and \"PnL\" into new Dictionary \"TotalRecords\"\n",
    "TotalRecords.update(zip(months, PnL))\n",
    "#Get Maximum and Minum dates and values\n",
    "maxdate = max(TotalRecords, key=TotalRecords.get)\n",
    "maxvalue = TotalRecords[maxdate]\n",
    "mindate = min(TotalRecords, key=TotalRecords.get)\n",
    "minvalue = TotalRecords[mindate]\n",
    "#get total revenues\n",
    "total_revenue = sum(PnL)\n",
    "#average changes\n",
    "average_change = total_revenue / len(PnL)\n",
    "txt1 = \"Financial Analysis\"\n",
    "txt2 = \"----------------------------\"\n",
    "txt3 = \"Total Months: \" + len(months)\n",
    "txt4 = \"Total: ${total_revenue}\"\n",
    "txt5 = \"Average Change: ${average_change}\"\n",
    "txt6 = \"Greatest Increase in Profits: {maxdate} (${maxvalue})\"\n",
    "txt7 = \"Greatest decrease in losses: {mindate} (${minvalue}\"\n",
    "textlines = [txt1, txt2, txt3, txt4, txt5, txt6, txt7]\n",
    "#filepath2 = Path('./', 'budget_data.txt')\n",
    "#file_obj2 = open(filepath2, 'w')\n",
    "#with file_obj2 as textwriter:\n",
    "#    textwriter.write('\\n'.join(textlines))\n",
    "print(txt1)\n",
    "print(txt2)\n",
    "print(txt3)\n",
    "print(txt4)\n",
    "print(txt5)\n",
    "print(txt6)\n",
    "print(txt7)\n"
   ]
  },
  {
   "cell_type": "code",
   "execution_count": 9,
   "metadata": {},
   "outputs": [
    {
     "name": "stdout",
     "output_type": "stream",
     "text": [
      "c:\\Users\\15613\\FinTechWork\\python-homework\\PyBank\n"
     ]
    }
   ],
   "source": [
    "print(Path.cwd())"
   ]
  },
  {
   "cell_type": "code",
   "execution_count": null,
   "metadata": {},
   "outputs": [],
   "source": []
  }
 ],
 "metadata": {
  "interpreter": {
   "hash": "adff27d073d9c9985dcf86128ad23c862abfe757bdca0ddacca0dde5f60f31b3"
  },
  "kernelspec": {
   "display_name": "Python 3.7.11 ('dev')",
   "language": "python",
   "name": "python3"
  },
  "language_info": {
   "codemirror_mode": {
    "name": "ipython",
    "version": 3
   },
   "file_extension": ".py",
   "mimetype": "text/x-python",
   "name": "python",
   "nbconvert_exporter": "python",
   "pygments_lexer": "ipython3",
   "version": "3.7.11"
  },
  "orig_nbformat": 4
 },
 "nbformat": 4,
 "nbformat_minor": 2
}
