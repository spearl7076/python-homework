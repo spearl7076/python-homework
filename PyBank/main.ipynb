{
 "cells": [
  {
   "cell_type": "code",
   "execution_count": null,
   "metadata": {},
   "outputs": [],
   "source": [
    "from pathlib import Path\n",
    "import csv\n",
    "records = []\n",
    "header = []\n",
    "filepath = Path('./', 'sales.csv')\n",
    "file_obj = open(filepath)\n",
    "reader_obj = csv.reader(file_obj)\n",
    "for rows in reader_obj:\n",
    "    records.append(rows)\n",
    "header = records[0]\n",
    "header.append('Average')\n",
    "records[0] = header\n",
    "i = 1\n",
    "while i < len(records):\n",
    "    revenue = int(records[i][2])\n",
    "    count = int(records[i][1])\n",
    "    average = round(revenue / count, 2)\n",
    "    records[i].append(average)\n",
    "    i = i + 1\n",
    "print(records)\n",
    "filepath2 = Path('./', 'output3.csv')\n",
    "file_obj2 = open(filepath2, 'w')\n",
    "with file_obj2:\n",
    "    writer = csv.writer(file_obj2, lineterminator='\\n')\n",
    "    writer.writerows(records)"
   ]
  }
 ],
 "metadata": {
  "interpreter": {
   "hash": "adff27d073d9c9985dcf86128ad23c862abfe757bdca0ddacca0dde5f60f31b3"
  },
  "kernelspec": {
   "display_name": "Python 3.7.11 ('dev')",
   "language": "python",
   "name": "python3"
  },
  "language_info": {
   "name": "python",
   "version": "3.7.11"
  },
  "orig_nbformat": 4
 },
 "nbformat": 4,
 "nbformat_minor": 2
}
